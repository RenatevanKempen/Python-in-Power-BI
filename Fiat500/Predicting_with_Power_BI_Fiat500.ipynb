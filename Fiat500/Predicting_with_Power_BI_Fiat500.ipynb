{
  "nbformat": 4,
  "nbformat_minor": 0,
  "metadata": {
    "colab": {
      "name": "Predicting with Power BI - Fiat500.ipynb",
      "provenance": [],
      "collapsed_sections": [],
      "authorship_tag": "ABX9TyN2Y4EyC6l9DcBih2szf2TK",
      "include_colab_link": true
    },
    "kernelspec": {
      "name": "python3",
      "display_name": "Python 3"
    },
    "language_info": {
      "name": "python"
    }
  },
  "cells": [
    {
      "cell_type": "markdown",
      "metadata": {
        "id": "view-in-github",
        "colab_type": "text"
      },
      "source": [
        "<a href=\"https://colab.research.google.com/github/RenatevanKempen/Python-in-Power-BI/blob/main/Predicting_with_Power_BI_Fiat500.ipynb\" target=\"_parent\"><img src=\"https://colab.research.google.com/assets/colab-badge.svg\" alt=\"Open In Colab\"/></a>"
      ]
    },
    {
      "cell_type": "markdown",
      "metadata": {
        "id": "QvhLHCStGqAh"
      },
      "source": [
        "<img src=\"https://baime.nl/wp-content/uploads/2020/12/cropped-Social-Media-Kit-1.jpg\" alt=\"Logo B.A.I.M.E\" width=\"200\"/>"
      ]
    },
    {
      "cell_type": "markdown",
      "metadata": {
        "id": "SuUI8X-dGgZG"
      },
      "source": [
        "# **Predicting Fiat500 used car prices**"
      ]
    },
    {
      "cell_type": "markdown",
      "metadata": {
        "id": "UNA6yhHCGdvI"
      },
      "source": [
        "<img src=\"https://cdn.pixabay.com/photo/2017/09/05/08/55/isolated-2716838_960_720.png\" alt=\"Fiat500\" width=\"200\"/>"
      ]
    },
    {
      "cell_type": "markdown",
      "metadata": {
        "id": "gcSZmEZpHz1h"
      },
      "source": [
        "# The situation explained\n",
        "\n",
        "In this notebook we look at the data we got via this [Kaggle dataset](https://www.kaggle.com/paolocons/small-dataset-about-used-fiat-500-sold-in-italy/code).\n",
        "\n",
        "We will see if we can predict the sales price of a used Fiat 500 car.\n",
        "\n",
        "We will explore the dataset given, check the various features we have and we will make an algorithm that can predict the sales price of the car."
      ]
    },
    {
      "cell_type": "markdown",
      "metadata": {
        "id": "l7RUQIHiKUJl"
      },
      "source": [
        "# 1. Import the important libraries / packages\n",
        "These packages are needed to load and use the dataset"
      ]
    },
    {
      "cell_type": "code",
      "metadata": {
        "id": "_8hkv8fkGZkp"
      },
      "source": [
        "import pandas as pd #we use this to load, read and transform the dataset\n",
        "import numpy as np #we use this for statistical analysis\n",
        "import matplotlib.pyplot as plt #we use this to visualize the dataset\n",
        "import seaborn as sns #we use this to make countplots\n",
        "import sklearn.metrics as sklm #This is to test the models"
      ],
      "execution_count": null,
      "outputs": []
    },
    {
      "cell_type": "markdown",
      "metadata": {
        "id": "mjXhf3YGKe_D"
      },
      "source": [
        "1b. Mount your drive to access the data properly from your drive"
      ]
    },
    {
      "cell_type": "code",
      "metadata": {
        "id": "-589GvNpH7lf",
        "colab": {
          "base_uri": "https://localhost:8080/"
        },
        "outputId": "d1fbb9ea-3ea6-40a3-fe5f-59e3f95cc197"
      },
      "source": [
        "# You will need to mount your drive using the following commands:\n",
        "\n",
        "from google.colab import drive\n",
        "drive.mount('/content/drive')"
      ],
      "execution_count": null,
      "outputs": [
        {
          "output_type": "stream",
          "text": [
            "Mounted at /content/drive\n"
          ],
          "name": "stdout"
        }
      ]
    },
    {
      "cell_type": "code",
      "metadata": {
        "colab": {
          "base_uri": "https://localhost:8080/",
          "height": 206
        },
        "id": "FYjSrBefKiEX",
        "outputId": "f8782b0d-fe98-4875-e3b8-a7392e0e2e07"
      },
      "source": [
        "#here we load the train data\n",
        "data = pd.read_csv('/content/drive/My Drive/Colab Notebooks/PowerBI training/Used_fiat_500_in_Italy_dataset.csv')\n",
        "\n",
        "#and immediately I would like to see how this dataset looks like\n",
        "data.head()"
      ],
      "execution_count": null,
      "outputs": [
        {
          "output_type": "execute_result",
          "data": {
            "text/html": [
              "<div>\n",
              "<style scoped>\n",
              "    .dataframe tbody tr th:only-of-type {\n",
              "        vertical-align: middle;\n",
              "    }\n",
              "\n",
              "    .dataframe tbody tr th {\n",
              "        vertical-align: top;\n",
              "    }\n",
              "\n",
              "    .dataframe thead th {\n",
              "        text-align: right;\n",
              "    }\n",
              "</style>\n",
              "<table border=\"1\" class=\"dataframe\">\n",
              "  <thead>\n",
              "    <tr style=\"text-align: right;\">\n",
              "      <th></th>\n",
              "      <th>model</th>\n",
              "      <th>engine_power</th>\n",
              "      <th>transmission</th>\n",
              "      <th>age_in_days</th>\n",
              "      <th>km</th>\n",
              "      <th>previous_owners</th>\n",
              "      <th>lat</th>\n",
              "      <th>lon</th>\n",
              "      <th>price</th>\n",
              "    </tr>\n",
              "  </thead>\n",
              "  <tbody>\n",
              "    <tr>\n",
              "      <th>0</th>\n",
              "      <td>pop</td>\n",
              "      <td>69</td>\n",
              "      <td>manual</td>\n",
              "      <td>4474</td>\n",
              "      <td>56779</td>\n",
              "      <td>2</td>\n",
              "      <td>45.071079</td>\n",
              "      <td>7.46403</td>\n",
              "      <td>4490</td>\n",
              "    </tr>\n",
              "    <tr>\n",
              "      <th>1</th>\n",
              "      <td>lounge</td>\n",
              "      <td>69</td>\n",
              "      <td>manual</td>\n",
              "      <td>2708</td>\n",
              "      <td>160000</td>\n",
              "      <td>1</td>\n",
              "      <td>45.069679</td>\n",
              "      <td>7.70492</td>\n",
              "      <td>4500</td>\n",
              "    </tr>\n",
              "    <tr>\n",
              "      <th>2</th>\n",
              "      <td>lounge</td>\n",
              "      <td>69</td>\n",
              "      <td>automatic</td>\n",
              "      <td>3470</td>\n",
              "      <td>170000</td>\n",
              "      <td>2</td>\n",
              "      <td>45.514599</td>\n",
              "      <td>9.28434</td>\n",
              "      <td>4500</td>\n",
              "    </tr>\n",
              "    <tr>\n",
              "      <th>3</th>\n",
              "      <td>sport</td>\n",
              "      <td>69</td>\n",
              "      <td>manual</td>\n",
              "      <td>3288</td>\n",
              "      <td>132000</td>\n",
              "      <td>2</td>\n",
              "      <td>41.903221</td>\n",
              "      <td>12.49565</td>\n",
              "      <td>4700</td>\n",
              "    </tr>\n",
              "    <tr>\n",
              "      <th>4</th>\n",
              "      <td>sport</td>\n",
              "      <td>69</td>\n",
              "      <td>manual</td>\n",
              "      <td>3712</td>\n",
              "      <td>124490</td>\n",
              "      <td>2</td>\n",
              "      <td>45.532661</td>\n",
              "      <td>9.03892</td>\n",
              "      <td>4790</td>\n",
              "    </tr>\n",
              "  </tbody>\n",
              "</table>\n",
              "</div>"
            ],
            "text/plain": [
              "    model  engine_power transmission  ...        lat       lon  price\n",
              "0     pop            69       manual  ...  45.071079   7.46403   4490\n",
              "1  lounge            69       manual  ...  45.069679   7.70492   4500\n",
              "2  lounge            69    automatic  ...  45.514599   9.28434   4500\n",
              "3   sport            69       manual  ...  41.903221  12.49565   4700\n",
              "4   sport            69       manual  ...  45.532661   9.03892   4790\n",
              "\n",
              "[5 rows x 9 columns]"
            ]
          },
          "metadata": {
            "tags": []
          },
          "execution_count": 5
        }
      ]
    },
    {
      "cell_type": "code",
      "metadata": {
        "colab": {
          "base_uri": "https://localhost:8080/"
        },
        "id": "5LznGMlOK9hW",
        "outputId": "7ed6bc7d-f5ee-4de8-a4c1-e637bbe45b43"
      },
      "source": [
        "#now let's look closer at the dataset we got\n",
        "data.info()"
      ],
      "execution_count": null,
      "outputs": [
        {
          "output_type": "stream",
          "text": [
            "<class 'pandas.core.frame.DataFrame'>\n",
            "RangeIndex: 380 entries, 0 to 379\n",
            "Data columns (total 9 columns):\n",
            " #   Column           Non-Null Count  Dtype  \n",
            "---  ------           --------------  -----  \n",
            " 0   model            380 non-null    object \n",
            " 1   engine_power     380 non-null    int64  \n",
            " 2   transmission     380 non-null    object \n",
            " 3   age_in_days      380 non-null    int64  \n",
            " 4   km               380 non-null    int64  \n",
            " 5   previous_owners  380 non-null    int64  \n",
            " 6   lat              380 non-null    float64\n",
            " 7   lon              380 non-null    float64\n",
            " 8   price            380 non-null    int64  \n",
            "dtypes: float64(2), int64(5), object(2)\n",
            "memory usage: 26.8+ KB\n"
          ],
          "name": "stdout"
        }
      ]
    },
    {
      "cell_type": "code",
      "metadata": {
        "colab": {
          "base_uri": "https://localhost:8080/"
        },
        "id": "sA-Y15WRLeOV",
        "outputId": "3d8ffc8f-a486-41db-8019-5d32ca02340a"
      },
      "source": [
        "data.shape"
      ],
      "execution_count": null,
      "outputs": [
        {
          "output_type": "execute_result",
          "data": {
            "text/plain": [
              "(380, 9)"
            ]
          },
          "metadata": {
            "tags": []
          },
          "execution_count": 7
        }
      ]
    },
    {
      "cell_type": "code",
      "metadata": {
        "colab": {
          "base_uri": "https://localhost:8080/",
          "height": 300
        },
        "id": "goIKcT6TLgCO",
        "outputId": "fc92eab5-381c-4a8f-c6ff-018a8be99a2f"
      },
      "source": [
        "data.describe()"
      ],
      "execution_count": null,
      "outputs": [
        {
          "output_type": "execute_result",
          "data": {
            "text/html": [
              "<div>\n",
              "<style scoped>\n",
              "    .dataframe tbody tr th:only-of-type {\n",
              "        vertical-align: middle;\n",
              "    }\n",
              "\n",
              "    .dataframe tbody tr th {\n",
              "        vertical-align: top;\n",
              "    }\n",
              "\n",
              "    .dataframe thead th {\n",
              "        text-align: right;\n",
              "    }\n",
              "</style>\n",
              "<table border=\"1\" class=\"dataframe\">\n",
              "  <thead>\n",
              "    <tr style=\"text-align: right;\">\n",
              "      <th></th>\n",
              "      <th>engine_power</th>\n",
              "      <th>age_in_days</th>\n",
              "      <th>km</th>\n",
              "      <th>previous_owners</th>\n",
              "      <th>lat</th>\n",
              "      <th>lon</th>\n",
              "      <th>price</th>\n",
              "    </tr>\n",
              "  </thead>\n",
              "  <tbody>\n",
              "    <tr>\n",
              "      <th>count</th>\n",
              "      <td>380.000000</td>\n",
              "      <td>380.000000</td>\n",
              "      <td>380.000000</td>\n",
              "      <td>380.000000</td>\n",
              "      <td>380.000000</td>\n",
              "      <td>380.000000</td>\n",
              "      <td>380.000000</td>\n",
              "    </tr>\n",
              "    <tr>\n",
              "      <th>mean</th>\n",
              "      <td>73.015789</td>\n",
              "      <td>3310.265789</td>\n",
              "      <td>102196.250000</td>\n",
              "      <td>1.510526</td>\n",
              "      <td>44.257712</td>\n",
              "      <td>10.742644</td>\n",
              "      <td>5881.655263</td>\n",
              "    </tr>\n",
              "    <tr>\n",
              "      <th>std</th>\n",
              "      <td>9.984672</td>\n",
              "      <td>1437.555063</td>\n",
              "      <td>47115.355234</td>\n",
              "      <td>0.560244</td>\n",
              "      <td>1.767518</td>\n",
              "      <td>2.167753</td>\n",
              "      <td>2170.617946</td>\n",
              "    </tr>\n",
              "    <tr>\n",
              "      <th>min</th>\n",
              "      <td>69.000000</td>\n",
              "      <td>91.000000</td>\n",
              "      <td>4981.000000</td>\n",
              "      <td>1.000000</td>\n",
              "      <td>37.510872</td>\n",
              "      <td>7.320720</td>\n",
              "      <td>2890.000000</td>\n",
              "    </tr>\n",
              "    <tr>\n",
              "      <th>25%</th>\n",
              "      <td>69.000000</td>\n",
              "      <td>3097.250000</td>\n",
              "      <td>76611.750000</td>\n",
              "      <td>1.000000</td>\n",
              "      <td>43.514196</td>\n",
              "      <td>9.159140</td>\n",
              "      <td>4600.000000</td>\n",
              "    </tr>\n",
              "    <tr>\n",
              "      <th>50%</th>\n",
              "      <td>69.000000</td>\n",
              "      <td>3927.000000</td>\n",
              "      <td>112000.000000</td>\n",
              "      <td>1.000000</td>\n",
              "      <td>45.069679</td>\n",
              "      <td>10.301505</td>\n",
              "      <td>5000.000000</td>\n",
              "    </tr>\n",
              "    <tr>\n",
              "      <th>75%</th>\n",
              "      <td>69.000000</td>\n",
              "      <td>4322.000000</td>\n",
              "      <td>135000.000000</td>\n",
              "      <td>2.000000</td>\n",
              "      <td>45.556942</td>\n",
              "      <td>12.346788</td>\n",
              "      <td>5500.000000</td>\n",
              "    </tr>\n",
              "    <tr>\n",
              "      <th>max</th>\n",
              "      <td>101.000000</td>\n",
              "      <td>4719.000000</td>\n",
              "      <td>259000.000000</td>\n",
              "      <td>4.000000</td>\n",
              "      <td>46.781651</td>\n",
              "      <td>18.168011</td>\n",
              "      <td>15900.000000</td>\n",
              "    </tr>\n",
              "  </tbody>\n",
              "</table>\n",
              "</div>"
            ],
            "text/plain": [
              "       engine_power  age_in_days  ...         lon         price\n",
              "count    380.000000   380.000000  ...  380.000000    380.000000\n",
              "mean      73.015789  3310.265789  ...   10.742644   5881.655263\n",
              "std        9.984672  1437.555063  ...    2.167753   2170.617946\n",
              "min       69.000000    91.000000  ...    7.320720   2890.000000\n",
              "25%       69.000000  3097.250000  ...    9.159140   4600.000000\n",
              "50%       69.000000  3927.000000  ...   10.301505   5000.000000\n",
              "75%       69.000000  4322.000000  ...   12.346788   5500.000000\n",
              "max      101.000000  4719.000000  ...   18.168011  15900.000000\n",
              "\n",
              "[8 rows x 7 columns]"
            ]
          },
          "metadata": {
            "tags": []
          },
          "execution_count": 8
        }
      ]
    },
    {
      "cell_type": "code",
      "metadata": {
        "colab": {
          "base_uri": "https://localhost:8080/"
        },
        "id": "FpyZW8EyLji0",
        "outputId": "da4d849f-2ed5-4fce-b309-ebc18c6f505b"
      },
      "source": [
        "#find out the unique values of the engine power\n",
        "print(data['engine_power'].unique())"
      ],
      "execution_count": null,
      "outputs": [
        {
          "output_type": "stream",
          "text": [
            "[ 69  99 101  84]\n"
          ],
          "name": "stdout"
        }
      ]
    },
    {
      "cell_type": "code",
      "metadata": {
        "colab": {
          "base_uri": "https://localhost:8080/"
        },
        "id": "YHXQAIucLj-7",
        "outputId": "ecf05f23-b16f-42d4-f802-ca707064b496"
      },
      "source": [
        "#Let's see what the options are in the model column (the objects)\n",
        "print(data['model'].unique())"
      ],
      "execution_count": null,
      "outputs": [
        {
          "output_type": "stream",
          "text": [
            "['pop' 'lounge' 'sport' 'star']\n"
          ],
          "name": "stdout"
        }
      ]
    },
    {
      "cell_type": "code",
      "metadata": {
        "colab": {
          "base_uri": "https://localhost:8080/"
        },
        "id": "-K7bbHpkLlwB",
        "outputId": "b3ba96cf-709d-4ea6-ed95-ba4f9e7cff54"
      },
      "source": [
        "#Let's see what the options are in the transmission column (the objects)\n",
        "print(data['transmission'].unique())"
      ],
      "execution_count": null,
      "outputs": [
        {
          "output_type": "stream",
          "text": [
            "['manual' 'automatic']\n"
          ],
          "name": "stdout"
        }
      ]
    },
    {
      "cell_type": "markdown",
      "metadata": {
        "id": "f_6R5S1LLrrp"
      },
      "source": [
        "# 2. Explore the dataset\n",
        "\n",
        "## Price in the dataset\n",
        "As this is the column we would like to predict, let's look closer to this column."
      ]
    },
    {
      "cell_type": "code",
      "metadata": {
        "colab": {
          "base_uri": "https://localhost:8080/",
          "height": 337
        },
        "id": "OAhi8a9RLoBD",
        "outputId": "7bf93c42-6246-4ac6-fa3c-f671bc7864ce"
      },
      "source": [
        "#Now let's try a histogram\n",
        "plt.hist(data['price'])"
      ],
      "execution_count": null,
      "outputs": [
        {
          "output_type": "execute_result",
          "data": {
            "text/plain": [
              "(array([ 33., 240.,  26.,  16.,  11.,  36.,  12.,   5.,   0.,   1.]),\n",
              " array([ 2890.,  4191.,  5492.,  6793.,  8094.,  9395., 10696., 11997.,\n",
              "        13298., 14599., 15900.]),\n",
              " <a list of 10 Patch objects>)"
            ]
          },
          "metadata": {
            "tags": []
          },
          "execution_count": 12
        },
        {
          "output_type": "display_data",
          "data": {
            "image/png": "[encoded data removed]",
            "text/plain": [
              "<Figure size 432x288 with 1 Axes>"
            ]
          },
          "metadata": {
            "tags": [],
            "needs_background": "light"
          }
        }
      ]
    },
    {
      "cell_type": "code",
      "metadata": {
        "colab": {
          "base_uri": "https://localhost:8080/",
          "height": 404
        },
        "id": "-wHr_l97LzJ4",
        "outputId": "ce5dd018-ffc2-4d4e-ae34-9a083c72a836"
      },
      "source": [
        "#Now we will try a Box & Wiskers plot\n",
        "plt.boxplot(data['price'])"
      ],
      "execution_count": null,
      "outputs": [
        {
          "output_type": "execute_result",
          "data": {
            "text/plain": [
              "{'boxes': [<matplotlib.lines.Line2D at 0x7f980bdb6e90>],\n",
              " 'caps': [<matplotlib.lines.Line2D at 0x7f980bdbee90>,\n",
              "  <matplotlib.lines.Line2D at 0x7f980bdc5410>],\n",
              " 'fliers': [<matplotlib.lines.Line2D at 0x7f980bdc5ed0>],\n",
              " 'means': [],\n",
              " 'medians': [<matplotlib.lines.Line2D at 0x7f980bdc5990>],\n",
              " 'whiskers': [<matplotlib.lines.Line2D at 0x7f980bdbe410>,\n",
              "  <matplotlib.lines.Line2D at 0x7f980bdbe950>]}"
            ]
          },
          "metadata": {
            "tags": []
          },
          "execution_count": 13
        },
        {
          "output_type": "display_data",
          "data": {
            "image/png": "[encoded data removed]",
            "text/plain": [
              "<Figure size 432x288 with 1 Axes>"
            ]
          },
          "metadata": {
            "tags": [],
            "needs_background": "light"
          }
        }
      ]
    },
    {
      "cell_type": "markdown",
      "metadata": {
        "id": "2nriH55SL45T"
      },
      "source": [
        "You can see an outlier around 16.000 euro. Let's look closer at this outlier"
      ]
    },
    {
      "cell_type": "code",
      "metadata": {
        "colab": {
          "base_uri": "https://localhost:8080/",
          "height": 81
        },
        "id": "7zr_koZML1B_",
        "outputId": "61fbdf94-2d21-4647-cdc8-b45b78ad8e26"
      },
      "source": [
        "outliers = data[data['price'] > 14000]\n",
        "outliers.head()"
      ],
      "execution_count": null,
      "outputs": [
        {
          "output_type": "execute_result",
          "data": {
            "text/html": [
              "<div>\n",
              "<style scoped>\n",
              "    .dataframe tbody tr th:only-of-type {\n",
              "        vertical-align: middle;\n",
              "    }\n",
              "\n",
              "    .dataframe tbody tr th {\n",
              "        vertical-align: top;\n",
              "    }\n",
              "\n",
              "    .dataframe thead th {\n",
              "        text-align: right;\n",
              "    }\n",
              "</style>\n",
              "<table border=\"1\" class=\"dataframe\">\n",
              "  <thead>\n",
              "    <tr style=\"text-align: right;\">\n",
              "      <th></th>\n",
              "      <th>model</th>\n",
              "      <th>engine_power</th>\n",
              "      <th>transmission</th>\n",
              "      <th>age_in_days</th>\n",
              "      <th>km</th>\n",
              "      <th>previous_owners</th>\n",
              "      <th>lat</th>\n",
              "      <th>lon</th>\n",
              "      <th>price</th>\n",
              "    </tr>\n",
              "  </thead>\n",
              "  <tbody>\n",
              "    <tr>\n",
              "      <th>97</th>\n",
              "      <td>pop</td>\n",
              "      <td>69</td>\n",
              "      <td>manual</td>\n",
              "      <td>91</td>\n",
              "      <td>56779</td>\n",
              "      <td>1</td>\n",
              "      <td>45.580879</td>\n",
              "      <td>12.36937</td>\n",
              "      <td>15900</td>\n",
              "    </tr>\n",
              "  </tbody>\n",
              "</table>\n",
              "</div>"
            ],
            "text/plain": [
              "   model  engine_power transmission  ...        lat       lon  price\n",
              "97   pop            69       manual  ...  45.580879  12.36937  15900\n",
              "\n",
              "[1 rows x 9 columns]"
            ]
          },
          "metadata": {
            "tags": []
          },
          "execution_count": 15
        }
      ]
    },
    {
      "cell_type": "markdown",
      "metadata": {
        "id": "lX5ozksrL_GU"
      },
      "source": [
        "price is for a pop model, let's look more closely to the price range per model type"
      ]
    },
    {
      "cell_type": "code",
      "metadata": {
        "colab": {
          "base_uri": "https://localhost:8080/"
        },
        "id": "BN8O5fG3L4Eu",
        "outputId": "48d1e371-a32b-4441-9968-3fb988a5c67f"
      },
      "source": [
        "#first let's set the model column as categorical\n",
        "data['model'] = data['model'].astype('category')\n",
        "data.info()"
      ],
      "execution_count": null,
      "outputs": [
        {
          "output_type": "stream",
          "text": [
            "<class 'pandas.core.frame.DataFrame'>\n",
            "RangeIndex: 380 entries, 0 to 379\n",
            "Data columns (total 9 columns):\n",
            " #   Column           Non-Null Count  Dtype   \n",
            "---  ------           --------------  -----   \n",
            " 0   model            380 non-null    category\n",
            " 1   engine_power     380 non-null    int64   \n",
            " 2   transmission     380 non-null    object  \n",
            " 3   age_in_days      380 non-null    int64   \n",
            " 4   km               380 non-null    int64   \n",
            " 5   previous_owners  380 non-null    int64   \n",
            " 6   lat              380 non-null    float64 \n",
            " 7   lon              380 non-null    float64 \n",
            " 8   price            380 non-null    int64   \n",
            "dtypes: category(1), float64(2), int64(5), object(1)\n",
            "memory usage: 24.4+ KB\n"
          ],
          "name": "stdout"
        }
      ]
    },
    {
      "cell_type": "code",
      "metadata": {
        "colab": {
          "base_uri": "https://localhost:8080/",
          "height": 311
        },
        "id": "hyWQDnyxMCTk",
        "outputId": "e805dbad-9b01-45db-afed-c313aadf1c2b"
      },
      "source": [
        "#next let's plot per category how the data distribution looks like\n",
        "models = list(data['model'])\n",
        "values = list(data['price'])\n",
        "\n",
        "fig, axs = plt.subplots(1, 2, figsize=(9,4), sharey=True)\n",
        "axs[0].bar(models, values)\n",
        "axs[1].scatter(models, values)\n",
        "fig.suptitle('Categorical Plotting')"
      ],
      "execution_count": null,
      "outputs": [
        {
          "output_type": "execute_result",
          "data": {
            "text/plain": [
              "Text(0.5, 0.98, 'Categorical Plotting')"
            ]
          },
          "metadata": {
            "tags": []
          },
          "execution_count": 17
        },
        {
          "output_type": "display_data",
          "data": {
            "image/png": "[encoded data removed]",
            "text/plain": [
              "<Figure size 648x288 with 2 Axes>"
            ]
          },
          "metadata": {
            "tags": [],
            "needs_background": "light"
          }
        }
      ]
    },
    {
      "cell_type": "code",
      "metadata": {
        "colab": {
          "base_uri": "https://localhost:8080/",
          "height": 442
        },
        "id": "Yqr9wKPlMEmU",
        "outputId": "314c4e0c-0818-403f-82cc-7ac0398f7683"
      },
      "source": [
        "#Make a countplot to see how many models are sold\n",
        "countplt, ax = plt.subplots(figsize = (10,7))\n",
        "ax =sns.countplot(x = 'model', data=data)"
      ],
      "execution_count": null,
      "outputs": [
        {
          "output_type": "display_data",
          "data": {
            "image/png": "[encoded data removed]",
            "text/plain": [
              "<Figure size 720x504 with 1 Axes>"
            ]
          },
          "metadata": {
            "tags": [],
            "needs_background": "light"
          }
        }
      ]
    },
    {
      "cell_type": "markdown",
      "metadata": {
        "id": "xoOuIaM-MMHF"
      },
      "source": [
        "Looks like lounge is the most sold type of model and there is only one star model in this dataset.\n",
        "Let's look into this star model more closely."
      ]
    },
    {
      "cell_type": "code",
      "metadata": {
        "colab": {
          "base_uri": "https://localhost:8080/",
          "height": 81
        },
        "id": "1JnqFNKlMI-B",
        "outputId": "4f43b8a7-8722-4607-cd51-eef195ace7a7"
      },
      "source": [
        "star = data[data['model'] == 'star']\n",
        "star.head()"
      ],
      "execution_count": null,
      "outputs": [
        {
          "output_type": "execute_result",
          "data": {
            "text/html": [
              "<div>\n",
              "<style scoped>\n",
              "    .dataframe tbody tr th:only-of-type {\n",
              "        vertical-align: middle;\n",
              "    }\n",
              "\n",
              "    .dataframe tbody tr th {\n",
              "        vertical-align: top;\n",
              "    }\n",
              "\n",
              "    .dataframe thead th {\n",
              "        text-align: right;\n",
              "    }\n",
              "</style>\n",
              "<table border=\"1\" class=\"dataframe\">\n",
              "  <thead>\n",
              "    <tr style=\"text-align: right;\">\n",
              "      <th></th>\n",
              "      <th>model</th>\n",
              "      <th>engine_power</th>\n",
              "      <th>transmission</th>\n",
              "      <th>age_in_days</th>\n",
              "      <th>km</th>\n",
              "      <th>previous_owners</th>\n",
              "      <th>lat</th>\n",
              "      <th>lon</th>\n",
              "      <th>price</th>\n",
              "    </tr>\n",
              "  </thead>\n",
              "  <tbody>\n",
              "    <tr>\n",
              "      <th>83</th>\n",
              "      <td>star</td>\n",
              "      <td>69</td>\n",
              "      <td>manual</td>\n",
              "      <td>275</td>\n",
              "      <td>7900</td>\n",
              "      <td>1</td>\n",
              "      <td>45.351528</td>\n",
              "      <td>10.84409</td>\n",
              "      <td>10990</td>\n",
              "    </tr>\n",
              "  </tbody>\n",
              "</table>\n",
              "</div>"
            ],
            "text/plain": [
              "   model  engine_power transmission  ...        lat       lon  price\n",
              "83  star            69       manual  ...  45.351528  10.84409  10990\n",
              "\n",
              "[1 rows x 9 columns]"
            ]
          },
          "metadata": {
            "tags": []
          },
          "execution_count": 19
        }
      ]
    },
    {
      "cell_type": "markdown",
      "metadata": {
        "id": "3NKHQIynMQvd"
      },
      "source": [
        "There is indeed only one star model in this dataset. "
      ]
    },
    {
      "cell_type": "markdown",
      "metadata": {
        "id": "gyGcEUcVMT-P"
      },
      "source": [
        "# 3. Make all columns numeric\n",
        "We need to make all column input numeric to use them further on. \n",
        "This is what we will do now. "
      ]
    },
    {
      "cell_type": "code",
      "metadata": {
        "colab": {
          "base_uri": "https://localhost:8080/"
        },
        "id": "56Ao5fnVMOHB",
        "outputId": "5b4230c5-d4ab-4a0e-c79d-5ce990bf053a"
      },
      "source": [
        "#the only two columns that are not numeric are 'model' and ' transmission'.\n",
        "#to show how we have changed the values, let's encode this manually\n",
        "model_dict = {'pop':4, 'lounge':3, 'sport':2, 'star':1}\n",
        "data['model'].replace(model_dict, inplace=True)\n",
        "data.info()"
      ],
      "execution_count": null,
      "outputs": [
        {
          "output_type": "stream",
          "text": [
            "<class 'pandas.core.frame.DataFrame'>\n",
            "RangeIndex: 380 entries, 0 to 379\n",
            "Data columns (total 9 columns):\n",
            " #   Column           Non-Null Count  Dtype  \n",
            "---  ------           --------------  -----  \n",
            " 0   model            380 non-null    int64  \n",
            " 1   engine_power     380 non-null    int64  \n",
            " 2   transmission     380 non-null    object \n",
            " 3   age_in_days      380 non-null    int64  \n",
            " 4   km               380 non-null    int64  \n",
            " 5   previous_owners  380 non-null    int64  \n",
            " 6   lat              380 non-null    float64\n",
            " 7   lon              380 non-null    float64\n",
            " 8   price            380 non-null    int64  \n",
            "dtypes: float64(2), int64(6), object(1)\n",
            "memory usage: 26.8+ KB\n"
          ],
          "name": "stdout"
        }
      ]
    },
    {
      "cell_type": "code",
      "metadata": {
        "colab": {
          "base_uri": "https://localhost:8080/"
        },
        "id": "RAF1f0kGMXAR",
        "outputId": "e19b04dd-0a66-49dc-bea9-c622f1eff857"
      },
      "source": [
        "#the only two columns that are not numeric are 'model' and ' transmission'.\n",
        "#to show how we have changed the values, let's encode this manually\n",
        "trans_dict = {'manual':1, 'automatic':2}\n",
        "data['transmission'].replace(trans_dict, inplace=True)\n",
        "data.info()"
      ],
      "execution_count": null,
      "outputs": [
        {
          "output_type": "stream",
          "text": [
            "<class 'pandas.core.frame.DataFrame'>\n",
            "RangeIndex: 380 entries, 0 to 379\n",
            "Data columns (total 9 columns):\n",
            " #   Column           Non-Null Count  Dtype  \n",
            "---  ------           --------------  -----  \n",
            " 0   model            380 non-null    int64  \n",
            " 1   engine_power     380 non-null    int64  \n",
            " 2   transmission     380 non-null    int64  \n",
            " 3   age_in_days      380 non-null    int64  \n",
            " 4   km               380 non-null    int64  \n",
            " 5   previous_owners  380 non-null    int64  \n",
            " 6   lat              380 non-null    float64\n",
            " 7   lon              380 non-null    float64\n",
            " 8   price            380 non-null    int64  \n",
            "dtypes: float64(2), int64(7)\n",
            "memory usage: 26.8 KB\n"
          ],
          "name": "stdout"
        }
      ]
    },
    {
      "cell_type": "markdown",
      "metadata": {
        "id": "XrWJbxV-MfQZ"
      },
      "source": [
        "# 4. Most important features\n",
        "Let's continue by looking at the most important features according to three different tests. \n",
        "Than we will use the top ones to train and test our first model. "
      ]
    },
    {
      "cell_type": "code",
      "metadata": {
        "id": "R5-Cr6LXMbqJ"
      },
      "source": [
        "#First we need to split the dataset in the y-column (the target) and the components (X), the independent columns. \n",
        "#This is needed as we need to use the X columns to predict the y in the model. \n",
        "\n",
        "y = data['price'] #the column we want to predict \n",
        "X = data.drop(labels = ['price'], axis = 1)  #independent columns "
      ],
      "execution_count": null,
      "outputs": []
    },
    {
      "cell_type": "code",
      "metadata": {
        "id": "xhOv4YPqMeT9"
      },
      "source": [
        "#as Longitude and latitude are features which need to be combined to have an influence, we will drop them for now. \n",
        "X = X.drop(labels = ['lon', 'lat'], axis =1)"
      ],
      "execution_count": null,
      "outputs": []
    },
    {
      "cell_type": "code",
      "metadata": {
        "colab": {
          "base_uri": "https://localhost:8080/",
          "height": 283
        },
        "id": "CdHTS_nAMjOl",
        "outputId": "16adaacf-57c3-4b89-ccd3-229504a5c55e"
      },
      "source": [
        "#TEST 1 - ExtraTreesClassifier - GOOD IF YOU USE DECISION TREE MODELS\n",
        "from sklearn.ensemble import ExtraTreesClassifier\n",
        "import matplotlib.pyplot as plt\n",
        "model = ExtraTreesClassifier()\n",
        "model.fit(X,y)\n",
        "print(model.feature_importances_) #use inbuilt class feature_importances of tree based classifiers\n",
        "#plot graph of feature importances for better visualization\n",
        "feat_importances = pd.Series(model.feature_importances_, index=X.columns).sort_values()\n",
        "feat_importances.nlargest(10).plot(kind='barh')\n",
        "plt.show()"
      ],
      "execution_count": null,
      "outputs": [
        {
          "output_type": "stream",
          "text": [
            "[0.06806913 0.04071296 0.01675073 0.37429274 0.44784391 0.05233052]\n"
          ],
          "name": "stdout"
        },
        {
          "output_type": "display_data",
          "data": {
            "image/png": "[encoded data removed]",
            "text/plain": [
              "<Figure size 432x288 with 1 Axes>"
            ]
          },
          "metadata": {
            "tags": [],
            "needs_background": "light"
          }
        }
      ]
    },
    {
      "cell_type": "code",
      "metadata": {
        "colab": {
          "base_uri": "https://localhost:8080/"
        },
        "id": "XEnC65_xMlQT",
        "outputId": "adbbe7bb-b7b6-4fb5-ecd5-304cdacad856"
      },
      "source": [
        "#TEST 2 - SelectKBest - GOOD IF YOU USE A K-NEAREST NEIGHBOR MODEL\n",
        "from sklearn.feature_selection import SelectKBest\n",
        "from sklearn.feature_selection import chi2\n",
        "\n",
        "#apply SelectKBest class to extract top 10 best features\n",
        "bestfeatures = SelectKBest(score_func=chi2, k='all')\n",
        "fit = bestfeatures.fit(X,y)\n",
        "dfscores = pd.DataFrame(fit.scores_)\n",
        "dfcolumns = pd.DataFrame(X.columns)\n",
        "#concat two dataframes for better visualization \n",
        "featureScores = pd.concat([dfcolumns,dfscores],axis=1)\n",
        "featureScores.columns = ['Name of the column','Score']  #naming the dataframe columns\n",
        "print(featureScores.nlargest(10,'Score'))  #print 10 best features"
      ],
      "execution_count": null,
      "outputs": [
        {
          "output_type": "stream",
          "text": [
            "  Name of the column         Score\n",
            "4                 km  6.315350e+06\n",
            "3        age_in_days  2.179288e+05\n",
            "1       engine_power  1.257475e+02\n",
            "5    previous_owners  2.891261e+01\n",
            "0              model  1.593983e+01\n",
            "2       transmission  9.537323e+00\n"
          ],
          "name": "stdout"
        }
      ]
    },
    {
      "cell_type": "code",
      "metadata": {
        "colab": {
          "base_uri": "https://localhost:8080/",
          "height": 669
        },
        "id": "NxcvyNvEMnzV",
        "outputId": "b96ac85c-229e-49f7-c7ce-564ff915f7a4"
      },
      "source": [
        "#TEST 3 - Correlations - Linear and logistic regression like correlated data to have a good prediction\n",
        "#get correlations of each features in dataset\n",
        "corrmat = data.drop(labels =['lon', 'lat'], axis = 1) #this is because it is the original target column and therefore has a high correlation with our percentage column\n",
        "corrmat = corrmat.corr()\n",
        "top_corr_features = corrmat.index\n",
        "plt.figure(figsize=(10,10))\n",
        "\n",
        "#plot heat map\n",
        "g=sns.heatmap(data[top_corr_features].corr(),annot=True,cmap=\"RdYlGn\")"
      ],
      "execution_count": null,
      "outputs": [
        {
          "output_type": "display_data",
          "data": {
            "image/png": "[encoded data removed]",
            "text/plain": [
              "<Figure size 720x720 with 2 Axes>"
            ]
          },
          "metadata": {
            "tags": [],
            "needs_background": "light"
          }
        }
      ]
    },
    {
      "cell_type": "markdown",
      "metadata": {
        "id": "BKgGq5D7Mv5V"
      },
      "source": [
        "Seems that Age in days and km have a strong negative relationship to the price of the car, which is very logical, as the older the car, the less it's worth. \n",
        "\n",
        "Also age and km have a strong positive relationship, which is also logical, as the older the car the more likely it has ran more km. "
      ]
    },
    {
      "cell_type": "code",
      "metadata": {
        "id": "mXeOSY3kMqYw"
      },
      "source": [
        "#let's keep all features for now. "
      ],
      "execution_count": null,
      "outputs": []
    },
    {
      "cell_type": "markdown",
      "metadata": {
        "id": "Uyg4g8k0M1Ro"
      },
      "source": [
        "# 5. Machine learning Model\n",
        "As we would like to predict a continuous number, the price, we would use a Linear Regression model here. "
      ]
    },
    {
      "cell_type": "code",
      "metadata": {
        "id": "4vazNIjtMx51"
      },
      "source": [
        "#Load the chosen model here\n",
        "from sklearn.linear_model import LinearRegression"
      ],
      "execution_count": null,
      "outputs": []
    },
    {
      "cell_type": "markdown",
      "metadata": {
        "id": "3AflXY1CM6of"
      },
      "source": [
        "## 5a. Split the dataset in train and test\n",
        "\n",
        "Before we are going to use the models choosen, we will first split the dataset in a train and test set.\n",
        "This because we want to test the performance of the model on the training set and to be able to check it's accuracy. "
      ]
    },
    {
      "cell_type": "code",
      "metadata": {
        "id": "LvkzAlDUM0Pa"
      },
      "source": [
        "from sklearn.model_selection import train_test_split\n",
        "\n",
        "#First try with all features\n",
        "\n",
        "#I want to withhold 35 % of the trainset to perform the tests\n",
        "X_train, X_test, y_train, y_test= train_test_split(X,y, test_size=0.35 , random_state = 25)"
      ],
      "execution_count": null,
      "outputs": []
    },
    {
      "cell_type": "code",
      "metadata": {
        "colab": {
          "base_uri": "https://localhost:8080/"
        },
        "id": "ogUrSPFUNLeX",
        "outputId": "9a140028-0bdd-4c0b-ef40-83942e779e3f"
      },
      "source": [
        "print('Shape of X_train is: ', X_train.shape)\n",
        "print('Shape of X_test is: ', X_test.shape)\n",
        "print('Shape of Y_train is: ', y_train.shape)\n",
        "print('Shape of y_test is: ', y_test.shape)"
      ],
      "execution_count": null,
      "outputs": [
        {
          "output_type": "stream",
          "text": [
            "Shape of X_train is:  (247, 6)\n",
            "Shape of X_test is:  (133, 6)\n",
            "Shape of Y_train is:  (247,)\n",
            "Shape of y_test is:  (133,)\n"
          ],
          "name": "stdout"
        }
      ]
    },
    {
      "cell_type": "markdown",
      "metadata": {
        "id": "fxp8LqA9NPit"
      },
      "source": [
        "## 5b. Make a check for the model"
      ]
    },
    {
      "cell_type": "code",
      "metadata": {
        "id": "bluwqUkuNNDE"
      },
      "source": [
        "#To check the model, I want to build a check:\n",
        "import math\n",
        "def print_metrics(y_true, y_predicted, n_parameters):\n",
        "    ## First compute R^2 and the adjusted R^2\n",
        "    r2 = sklm.r2_score(y_true, y_predicted)\n",
        "    r2_adj = r2 - (n_parameters - 1)/(y_true.shape[0] - n_parameters) * (1 - r2)\n",
        "    \n",
        "    ## Print the usual metrics and the R^2 values\n",
        "    print('Mean Square Error      = ' + str(sklm.mean_squared_error(y_true, y_predicted)))\n",
        "    print('Root Mean Square Error = ' + str(math.sqrt(sklm.mean_squared_error(y_true, y_predicted))))\n",
        "    print('Mean Absolute Error    = ' + str(sklm.mean_absolute_error(y_true, y_predicted)))\n",
        "    print('Median Absolute Error  = ' + str(sklm.median_absolute_error(y_true, y_predicted)))\n",
        "    print('R^2                    = ' + str(r2))\n",
        "    print('Adjusted R^2           = ' + str(r2_adj)) #This is the number we will be focussing on. \n",
        "    #A good model would have an adjusted R2 of >70%, a bad model below this. \n",
        "    "
      ],
      "execution_count": null,
      "outputs": []
    },
    {
      "cell_type": "markdown",
      "metadata": {
        "id": "_XTaDpDbNVC2"
      },
      "source": [
        "## 5c. Fit and check the Linear regression model"
      ]
    },
    {
      "cell_type": "code",
      "metadata": {
        "colab": {
          "base_uri": "https://localhost:8080/"
        },
        "id": "93nV8kJMNSow",
        "outputId": "f170981b-e4bf-41cb-ca0b-3f26833ce7e6"
      },
      "source": [
        "# Linear regression model\n",
        "model = LinearRegression() \n",
        "model.fit(X_train, y_train)"
      ],
      "execution_count": null,
      "outputs": [
        {
          "output_type": "execute_result",
          "data": {
            "text/plain": [
              "LinearRegression(copy_X=True, fit_intercept=True, n_jobs=None, normalize=False)"
            ]
          },
          "metadata": {
            "tags": []
          },
          "execution_count": 34
        }
      ]
    },
    {
      "cell_type": "code",
      "metadata": {
        "colab": {
          "base_uri": "https://localhost:8080/"
        },
        "id": "qXPyfe1LNXLU",
        "outputId": "2c95b484-61c3-456c-be4c-558b636d3cfa"
      },
      "source": [
        "#Now let's see how this model performs\n",
        "Predictions = model.predict(X_test)\n",
        "print_metrics(y_test, Predictions, 6)"
      ],
      "execution_count": null,
      "outputs": [
        {
          "output_type": "stream",
          "text": [
            "Mean Square Error      = 855710.9048452273\n",
            "Root Mean Square Error = 925.0464338860116\n",
            "Mean Absolute Error    = 615.8743867209411\n",
            "Median Absolute Error  = 469.42144369705693\n",
            "R^2                    = 0.7983534747622291\n",
            "Adjusted R^2           = 0.7904146351859389\n"
          ],
          "name": "stdout"
        }
      ]
    },
    {
      "cell_type": "markdown",
      "metadata": {
        "id": "KomwUH4rNdXC"
      },
      "source": [
        "# Conclusion\n",
        "\n",
        "As you can see here, we have an adjusted R2 of 79%, so this model is not bad to predict the prices. "
      ]
    },
    {
      "cell_type": "code",
      "metadata": {
        "id": "V3Cf29lDNZFS"
      },
      "source": [
        ""
      ],
      "execution_count": null,
      "outputs": []
    }
  ]
}