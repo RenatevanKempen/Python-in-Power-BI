{
  "nbformat": 4,
  "nbformat_minor": 0,
  "metadata": {
    "colab": {
      "name": "Power BI code Sales Demo.ipynb",
      "provenance": [],
      "authorship_tag": "ABX9TyPbGtVnh3MJL1mYgq8s/+Qt",
      "include_colab_link": true
    },
    "kernelspec": {
      "name": "python3",
      "display_name": "Python 3"
    },
    "language_info": {
      "name": "python"
    }
  },
  "cells": [
    {
      "cell_type": "markdown",
      "metadata": {
        "id": "view-in-github",
        "colab_type": "text"
      },
      "source": [
        "<a href=\"https://colab.research.google.com/github/RenatevanKempen/Python-in-Power-BI/blob/main/Power_BI_code_Sales_Demo.ipynb\" target=\"_parent\"><img src=\"https://colab.research.google.com/assets/colab-badge.svg\" alt=\"Open In Colab\"/></a>"
      ]
    },
    {
      "cell_type": "markdown",
      "metadata": {
        "id": "GBYd9pziBkA5"
      },
      "source": [
        "<img src=\"https://baime.nl/wp-content/uploads/2020/12/cropped-Social-Media-Kit-1.jpg\" alt=\"Logo B.A.I.M.E\" width=\"200\"/>"
      ]
    },
    {
      "cell_type": "markdown",
      "metadata": {
        "id": "QAiyyiz6BvUt"
      },
      "source": [
        "# **Predicting weekly sales**"
      ]
    },
    {
      "cell_type": "markdown",
      "metadata": {
        "id": "UcFsi3CSCLoJ"
      },
      "source": [
        " <img src=\"https://baime.nl/wp-content/uploads/2020/07/Advertenties-Verkopen-II-1200x677.jpg \" alt=\"Sales demo dashboard\" width=\"400\"/>"
      ]
    },
    {
      "cell_type": "markdown",
      "metadata": {
        "id": "gwNX_L7SB5CL"
      },
      "source": [
        "## Power BI code"
      ]
    },
    {
      "cell_type": "code",
      "metadata": {
        "id": "s_32SQ6CBl2q"
      },
      "source": [
        "# 'dataset' holds the input data for this script\n",
        "# dit betekent dat de data al is geladen, dus die hoeven we niet nogmaals te laden. \n",
        "# Hij heet 'dataset'\n",
        "\n",
        "#importeer de belangrijkste tools\n",
        "import pandas as pd\n",
        "#import matplotlib.pyplot as plt\n",
        "#import seaborn as sns\n",
        "from sklearn.linear_model import LinearRegression\n",
        "from sklearn.model_selection import train_test_split\n",
        "\n",
        "\n",
        "#definieer de variabelen (X) en dat wat je wilt voorspellen (y)\n",
        "X = dataset.iloc[:, 1:4]\n",
        "y = dataset['Sales']\n",
        "X_train, X_test, y_train, y_test = train_test_split(X, y)\n",
        "\n",
        "# Maak een model en pas toe voor de voorspelling\n",
        "lin = LinearRegression()\n",
        "lin.fit(X_train, y_train)\n",
        "y_pred = lin.predict(X_test)\n",
        "\n",
        "# Maak extra coefficienten\n",
        "coef = lin.coef_\n",
        "components = pd.DataFrame(zip(X.columns, coef), columns= ['component', 'value'])\n",
        "components = components.append({'component':'intercept', 'value': lin.intercept_}, ignore_index = True)\n"
      ],
      "execution_count": null,
      "outputs": []
    }
  ]
}